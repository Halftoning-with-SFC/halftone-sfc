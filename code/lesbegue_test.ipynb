{
  "cells": [
    {
      "cell_type": "code",
      "execution_count": 1,
      "metadata": {
        "id": "ylhcNW-CntwJ"
      },
      "outputs": [],
      "source": [
        "def binary(num,size):\n",
        "  '''\n",
        "  num - número que queremos converter para binário\n",
        "  size - tamanho do binário, se o número for menor que 2ˆsize, o binário terá zeros a esquerda\n",
        "\n",
        "  ex: binary(10,5) = 01010\n",
        "  '''\n",
        "  return f\"{num:0{size}b}\""
      ]
    },
    {
      "cell_type": "code",
      "execution_count": 3,
      "metadata": {
        "colab": {
          "base_uri": "https://localhost:8080/"
        },
        "id": "zmrIfdvOqs1C",
        "outputId": "8ce69659-2674-424e-a7b8-404fb47d53fb"
      },
      "outputs": [
        {
          "name": "stdout",
          "output_type": "stream",
          "text": [
            "000111\n",
            "00\n",
            "01\n",
            "11\n",
            "\n"
          ]
        }
      ],
      "source": [
        "print(binary(7, 6))  # Saída: 000111\n",
        "j = binary(7, 6)\n",
        "\n",
        "for i in range(0, 4):\n",
        "    print(j[2*i : 2*(i+1)])"
      ]
    },
    {
      "cell_type": "code",
      "execution_count": 4,
      "metadata": {
        "id": "06O8PMLxg97G"
      },
      "outputs": [],
      "source": [
        "def lesbegue(i, order):\n",
        "    \"\"\"\n",
        "    Compute the (x, y) coordinates of the i-th point on a Lesbegue curve of a given order.\n",
        "\n",
        "    Parameters:\n",
        "    -----------\n",
        "    i : int\n",
        "        The index of the point on the Lesbegue curve.\n",
        "    order : int\n",
        "        The order of the Lesbegue curve.  The curve will cover a 4^order x 4^order grid.\n",
        "\n",
        "    Returns:\n",
        "    --------\n",
        "    (x, y) : tuple of int\n",
        "        The (x, y) coordinates of the i-th point on the Lesbegue curve.\n",
        "    \"\"\"\n",
        "\n",
        "    if i >= (4**order): #se o número for maior do que o número de quadrados que existem\n",
        "        raise ValueError(f\"Index i must be less than 4^{order} = {4**order}.\")\n",
        "\n",
        "    def binary(num,size):\n",
        "      '''\n",
        "      num - número que queremos converter para binário\n",
        "      size - tamanho do binário, se o número for menor que 2ˆsize, o binário terá zeros a esquerda\n",
        "\n",
        "      ex: binary(10,5) = 01010\n",
        "      '''\n",
        "      return f\"{num:0{size}b}\"\n",
        "\n",
        "    x, y = 0, 0\n",
        "\n",
        "    binary_num = binary(i,order*2)\n",
        "\n",
        "    for k in range(order):\n",
        "        # Extrai o par de bits atual\n",
        "        bits = binary_num[2*k : 2*(k+1)]\n",
        "\n",
        "        # Calcula o deslocamento com base na ordem atual\n",
        "        shift = 2**(order - k - 1)\n",
        "\n",
        "        if bits == \"01\":\n",
        "            y += shift\n",
        "        elif bits == \"10\":\n",
        "            x += shift\n",
        "        elif bits == \"11\":\n",
        "            x += shift\n",
        "            y += shift\n",
        "\n",
        "    return (x,y)"
      ]
    },
    {
      "cell_type": "code",
      "execution_count": 14,
      "metadata": {
        "colab": {
          "base_uri": "https://localhost:8080/"
        },
        "id": "NQI9nhm1g-6o",
        "outputId": "3b2550f4-3613-481b-ac91-b745288734e9"
      },
      "outputs": [
        {
          "name": "stdout",
          "output_type": "stream",
          "text": [
            "(0, 0)\n",
            "(0, 1)\n",
            "(1, 0)\n",
            "(1, 1)\n",
            "(0, 2)\n",
            "(0, 3)\n",
            "(1, 2)\n",
            "(1, 3)\n",
            "(2, 0)\n",
            "(2, 1)\n",
            "(3, 0)\n",
            "(3, 1)\n",
            "(2, 2)\n",
            "(2, 3)\n",
            "(3, 2)\n",
            "(3, 3)\n",
            "(0, 4)\n",
            "(0, 5)\n",
            "(1, 4)\n",
            "(1, 5)\n",
            "(0, 6)\n",
            "(0, 7)\n",
            "(1, 6)\n",
            "(1, 7)\n",
            "(2, 4)\n",
            "(2, 5)\n",
            "(3, 4)\n",
            "(3, 5)\n",
            "(2, 6)\n",
            "(2, 7)\n",
            "(3, 6)\n",
            "(3, 7)\n",
            "(4, 0)\n",
            "(4, 1)\n",
            "(5, 0)\n",
            "(5, 1)\n",
            "(4, 2)\n",
            "(4, 3)\n",
            "(5, 2)\n",
            "(5, 3)\n",
            "(6, 0)\n",
            "(6, 1)\n",
            "(7, 0)\n",
            "(7, 1)\n",
            "(6, 2)\n",
            "(6, 3)\n",
            "(7, 2)\n",
            "(7, 3)\n",
            "(4, 4)\n",
            "(4, 5)\n",
            "(5, 4)\n",
            "(5, 5)\n",
            "(4, 6)\n",
            "(4, 7)\n",
            "(5, 6)\n",
            "(5, 7)\n",
            "(6, 4)\n",
            "(6, 5)\n",
            "(7, 4)\n",
            "(7, 5)\n",
            "(6, 6)\n",
            "(6, 7)\n",
            "(7, 6)\n",
            "(7, 7)\n"
          ]
        }
      ],
      "source": [
        "for i in range((2**6)):\n",
        "    print(lesbegue(i, 3))"
      ]
    }
  ],
  "metadata": {
    "colab": {
      "provenance": []
    },
    "kernelspec": {
      "display_name": "Python 3",
      "name": "python3"
    },
    "language_info": {
      "codemirror_mode": {
        "name": "ipython",
        "version": 3
      },
      "file_extension": ".py",
      "mimetype": "text/x-python",
      "name": "python",
      "nbconvert_exporter": "python",
      "pygments_lexer": "ipython3",
      "version": "3.9.6"
    }
  },
  "nbformat": 4,
  "nbformat_minor": 0
}
